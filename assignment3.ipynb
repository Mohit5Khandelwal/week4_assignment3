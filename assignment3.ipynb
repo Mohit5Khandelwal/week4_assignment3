{
 "cells": [
  {
   "attachments": {},
   "cell_type": "markdown",
   "metadata": {},
   "source": [
    "Q1. What is Abstraction in OOps? Explain with an example.\n",
    "\n",
    "    Abstraction in object-oriented programming (OOP) refers to the process of simplifying complex systems by focusing on essential properties and hiding unnecessary details. It is one of the fundamental principles of OOP and helps in managing the complexity of software development."
   ]
  },
  {
   "cell_type": "code",
   "execution_count": 2,
   "metadata": {},
   "outputs": [
    {
     "name": "stdout",
     "output_type": "stream",
     "text": [
      "Buddy makes the sound of Meow\n",
      "Whisker makes the sound of Woof\n"
     ]
    }
   ],
   "source": [
    "import abc\n",
    "\n",
    "class Animal():\n",
    "\n",
    "    def __init__(self, name):\n",
    "        self.name = name\n",
    "    \n",
    "    @abc.abstractmethod\n",
    "    def sound(self):\n",
    "        pass\n",
    "\n",
    "    def display_info(self):\n",
    "        print( f\"{self.name} makes the sound of {self.sound()}\")\n",
    "\n",
    "class Cat( Animal ):\n",
    "\n",
    "    def sound(self):\n",
    "        return \"Meow\"\n",
    "    \n",
    "class Dog( Animal ):\n",
    "\n",
    "    def sound(self):\n",
    "        return \"Woof\"\n",
    "    \n",
    "# Creating an object for Child class \n",
    "\n",
    "cat = Cat(\"Buddy\")\n",
    "dog = Dog(\"Whisker\")\n",
    "\n",
    "# Calling the abstract methods\n",
    "cat.display_info()\n",
    "dog.display_info()\n"
   ]
  },
  {
   "attachments": {},
   "cell_type": "markdown",
   "metadata": {},
   "source": [
    "Q2. Differentiate between Abstraction and Encapsulation. Explain with an example\n",
    "\n",
    "    Abstraction focuses on the essential properties and behaviors of an object or system while hiding unnecessary details. It allows us to create higher-level concepts and models by defining interfaces, abstract classes, or interfaces that provide a simplified view of the system. Abstraction is about defining what an object does, without specifying how it does it.\n",
    "\n",
    "    Encapsulation, on the other hand, is about bundling data and the methods that operate on that data together into a single unit called a class. It provides a way to hide the internal state and implementation details of an object and expose only the necessary methods or properties. Encapsulation is about grouping related data and behavior into a cohesive unit."
   ]
  },
  {
   "cell_type": "code",
   "execution_count": 5,
   "metadata": {},
   "outputs": [
    {
     "data": {
      "text/plain": [
       "178945"
      ]
     },
     "execution_count": 5,
     "metadata": {},
     "output_type": "execute_result"
    }
   ],
   "source": [
    "class BankAccount:\n",
    "\n",
    "    def __init__(self, account_number, balance):\n",
    "        self.__account_number = account_number\n",
    "        self.__balance = balance\n",
    "    \n",
    "    def deposit(self, amount):\n",
    "        self.balance += amount\n",
    "    \n",
    "    def withdraw(self, amount):\n",
    "\n",
    "        if amount <= self.balance:\n",
    "            self.balance -= amount\n",
    "        else:\n",
    "            print(\"Insufficient funds\")\n",
    "    \n",
    "    def display_info(self):\n",
    "        print(f\"Account number: {self.account_number}\")\n",
    "        print(f\"Amount: {self.balance}\")\n",
    "\n",
    "# In an encapsulation that binds the data hides all internal implementation details\n",
    "rohan = BankAccount( 178945 , 1000 )\n",
    "\n",
    "rohan.account_number\n",
    "        \n"
   ]
  },
  {
   "attachments": {},
   "cell_type": "markdown",
   "metadata": {},
   "source": [
    "Q3. What is abc module in python? Why is it used.\n",
    "\n",
    "    The abc module in Python stands for \"Abstract Base Classes.\" It provides infrastructure for defining abstract base classes, which are classes that cannot be instantiated directly but serve as blueprints for other classes.\n",
    "\n",
    "    The abc module is used to create abstract base classes by using the ABC class as a metaclass or by using the @abstractmethod decorator. Here's an explanation of its primary components:"
   ]
  },
  {
   "attachments": {},
   "cell_type": "markdown",
   "metadata": {},
   "source": [
    "Q4. How can we achieve data abstraction?\n",
    "\n",
    "In object-oriented programming, data abstraction can be achieved through the use of abstract classes, interfaces, and access modifiers"
   ]
  },
  {
   "attachments": {},
   "cell_type": "markdown",
   "metadata": {},
   "source": [
    "Q5. Can we create an instance of an abstract class? Explain your answer\n",
    "\n",
    "No, we cannot create an instance of an abstract class directly. Abstract classes are meant to be inherited and serve as base classes for concrete subclasses. They provide a blueprint or template for derived classes to follow."
   ]
  },
  {
   "cell_type": "code",
   "execution_count": 6,
   "metadata": {},
   "outputs": [
    {
     "ename": "TypeError",
     "evalue": "Can't instantiate abstract class AbstractClass with abstract method abstract_method",
     "output_type": "error",
     "traceback": [
      "\u001b[1;31m---------------------------------------------------------------------------\u001b[0m",
      "\u001b[1;31mTypeError\u001b[0m                                 Traceback (most recent call last)",
      "Cell \u001b[1;32mIn[6], line 9\u001b[0m\n\u001b[0;32m      6\u001b[0m         \u001b[39mpass\u001b[39;00m\n\u001b[0;32m      8\u001b[0m \u001b[39m# Attempting to create an instance of the abstract class\u001b[39;00m\n\u001b[1;32m----> 9\u001b[0m obj \u001b[39m=\u001b[39m AbstractClass()  \u001b[39m# Raises TypeError: Can't instantiate abstract class AbstractClass with abstract methods abstract_method\u001b[39;00m\n",
      "\u001b[1;31mTypeError\u001b[0m: Can't instantiate abstract class AbstractClass with abstract method abstract_method"
     ]
    }
   ],
   "source": [
    "from abc import ABC, abstractmethod\n",
    "\n",
    "class AbstractClass(ABC):\n",
    "    @abstractmethod\n",
    "    def abstract_method(self):\n",
    "        pass\n",
    "\n",
    "# Attempting to create an instance of the abstract class\n",
    "obj = AbstractClass()  # Raises TypeError: Can't instantiate abstract class AbstractClass with abstract methods abstract_method\n",
    "\n"
   ]
  },
  {
   "cell_type": "code",
   "execution_count": 7,
   "metadata": {},
   "outputs": [
    {
     "name": "stdout",
     "output_type": "stream",
     "text": [
      "Concrete implementation of the abstract method\n"
     ]
    }
   ],
   "source": [
    "from abc import ABC, abstractmethod\n",
    "\n",
    "class AbstractClass(ABC):\n",
    "    @abstractmethod\n",
    "    def abstract_method(self):\n",
    "        pass\n",
    "\n",
    "class ConcreteClass(AbstractClass):\n",
    "    def abstract_method(self):\n",
    "        print(\"Concrete implementation of the abstract method\")\n",
    "\n",
    "# Creating an instance of the derived class\n",
    "obj = ConcreteClass()\n",
    "obj.abstract_method()  # Output: Concrete implementation of the abstract method\n"
   ]
  }
 ],
 "metadata": {
  "kernelspec": {
   "display_name": "Python 3",
   "language": "python",
   "name": "python3"
  },
  "language_info": {
   "codemirror_mode": {
    "name": "ipython",
    "version": 3
   },
   "file_extension": ".py",
   "mimetype": "text/x-python",
   "name": "python",
   "nbconvert_exporter": "python",
   "pygments_lexer": "ipython3",
   "version": "3.10.7"
  },
  "orig_nbformat": 4
 },
 "nbformat": 4,
 "nbformat_minor": 2
}
